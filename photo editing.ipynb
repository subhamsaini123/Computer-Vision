{
 "cells": [
  {
   "cell_type": "code",
   "execution_count": 1,
   "id": "d1c3377d",
   "metadata": {},
   "outputs": [],
   "source": [
    "import cv2\n"
   ]
  },
  {
   "cell_type": "code",
   "execution_count": 2,
   "id": "8651001d",
   "metadata": {},
   "outputs": [],
   "source": [
    "img=cv2.imread(\"C:\\\\Users\\\\subha\\\\Downloads\\\\sherry-christian-8Myh76_3M2U-unsplash.jpg\")\n",
    "img=cv2.resize(img,(600,700))"
   ]
  },
  {
   "cell_type": "code",
   "execution_count": 10,
   "id": "bd6b9688",
   "metadata": {},
   "outputs": [],
   "source": [
    "img=cv2.line(img,(0,0),(200,200),(245,7,31),8)\n",
    "img=cv2.arrowedLine(img,(0,125),(255,255),(255,0,125),10)\n",
    "img=cv2.rectangle(img,(384,10),(510,128),(128,0,225),-1)\n",
    "img=cv2.circle(img,(447,125),63,(214,255,0),5)\n",
    "\n",
    "font=cv2.FONT_HERSHEY_COMPLEX\n",
    "img=cv2.putText(img,'SUBHAM-CAFE',(20,500),font,4,(37, 150, 190),10,cv2.LINE_AA)\n",
    "\n",
    "img=cv2.ellipse(img,(400,600),(100,50),0,0,180,155,5)\n",
    "\n",
    "cv2.imshow(\"res\",img)\n",
    "cv2.waitKey(0)\n",
    "cv2.destroyAllWindows()"
   ]
  },
  {
   "cell_type": "code",
   "execution_count": null,
   "id": "55d92920",
   "metadata": {},
   "outputs": [],
   "source": []
  }
 ],
 "metadata": {
  "kernelspec": {
   "display_name": "Python 3 (ipykernel)",
   "language": "python",
   "name": "python3"
  },
  "language_info": {
   "codemirror_mode": {
    "name": "ipython",
    "version": 3
   },
   "file_extension": ".py",
   "mimetype": "text/x-python",
   "name": "python",
   "nbconvert_exporter": "python",
   "pygments_lexer": "ipython3",
   "version": "3.10.9"
  }
 },
 "nbformat": 4,
 "nbformat_minor": 5
}
