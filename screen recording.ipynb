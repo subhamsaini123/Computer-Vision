{
 "cells": [
  {
   "cell_type": "code",
   "execution_count": 3,
   "id": "d17c1dc8",
   "metadata": {},
   "outputs": [],
   "source": [
    "# !pip install pyautogui\n",
    "import pyautogui as p\n",
    "import cv2 as c\n",
    "import numpy as np"
   ]
  },
  {
   "cell_type": "code",
   "execution_count": 7,
   "id": "ecfd6c59",
   "metadata": {},
   "outputs": [
    {
     "name": "stdout",
     "output_type": "stream",
     "text": [
      "please enter any file name and path:C:\\\\Users\\\\subha\\\\OneDrive\\\\Desktop\\\\video record.mp4\n"
     ]
    }
   ],
   "source": [
    "#creat resolution\n",
    "rs=p.size()\n",
    "# filename in which we store recording\n",
    "fn=input(\"please enter any file name and path:\")\n",
    "# fix the frame rate \n",
    "fps=60.0\n",
    "fourcc=c.VideoWriter_fourcc(*'XVID') #fourcc is a codek that will help to create your videos\n",
    "output=c.VideoWriter(fn,fourcc,fps,rs)\n",
    "# create recording module\n",
    "c.namedWindow('Live_Recording',c.WINDOW_NORMAL)\n",
    "c.resizeWindow('Live_Recording',(600,400))\n",
    "while True:\n",
    "    img=p.screenshot()\n",
    "    f=np.array(img)\n",
    "    f=c.cvtColor(f,c.COLOR_BGR2RGB)\n",
    "    output.write(f)\n",
    "    c.imshow(\"Live_Recording\",f)\n",
    "    if c.waitKey(1)==ord(\"q\"):\n",
    "        break\n",
    "        \n",
    "        \n",
    "output.release()\n",
    "c.destroyAllWindows()\n",
    "\n",
    "#C:\\\\Users\\\\subha\\\\OneDrive\\\\Desktop\\\\video record.mp4"
   ]
  },
  {
   "cell_type": "code",
   "execution_count": null,
   "id": "fd86a43a",
   "metadata": {},
   "outputs": [],
   "source": []
  }
 ],
 "metadata": {
  "kernelspec": {
   "display_name": "Python 3 (ipykernel)",
   "language": "python",
   "name": "python3"
  },
  "language_info": {
   "codemirror_mode": {
    "name": "ipython",
    "version": 3
   },
   "file_extension": ".py",
   "mimetype": "text/x-python",
   "name": "python",
   "nbconvert_exporter": "python",
   "pygments_lexer": "ipython3",
   "version": "3.10.9"
  }
 },
 "nbformat": 4,
 "nbformat_minor": 5
}
