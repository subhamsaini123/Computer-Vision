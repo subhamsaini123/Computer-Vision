{
 "cells": [
  {
   "cell_type": "code",
   "execution_count": 3,
   "id": "c0ff6c36",
   "metadata": {},
   "outputs": [],
   "source": [
    "import cv2\n",
    "import numpy as np\n",
    "\n",
    "def cross(x):\n",
    "    pass\n",
    "\n",
    "#create a black image\n",
    "img=np.zeros((300,512,3),np.uint8) # empty image\n",
    "cv2.namedWindow(\"Color Picker\")\n",
    "\n",
    "# creating switch for on and off the tracknars\n",
    "\n",
    "switch='0 : OFF \\n1 : ON'\n",
    "cv2.createTrackbar(switch,'Color Picker',0,1,cross)\n",
    "cv2.createTrackbar(\"R\",\"Color Picker\",0,255,cross)\n",
    "cv2.createTrackbar(\"G\",\"Color Picker\",0,255,cross)\n",
    "cv2.createTrackbar(\"B\",\"Color Picker\",0,255,cross)\n",
    "\n",
    "while True:\n",
    "    cv2.imshow(\"Color Picker\",img)\n",
    "    k=cv2.waitKey(1) & 0xFF\n",
    "    if k== 27: # press ESC key to exit\n",
    "        break\n",
    "        \n",
    "    # set current positions of four bars\n",
    "    s=cv2.getTrackbarPos(switch,'Color Picker')# switch\n",
    "    r=cv2.getTrackbarPos(\"R\",\"Color Picker\")\n",
    "    g=cv2.getTrackbarPos(\"G\",\"Color Picker\")\n",
    "    b=cv2.getTrackbarPos(\"B\",\"Color Picker\")\n",
    "    \n",
    "    \n",
    "    if s==0:\n",
    "        img[:]=0\n",
    "    else:\n",
    "        img[:]=[b,g,r] #Note the order change to BGR for OPEnCV\n",
    "cv2.destroyAllWindows()\n",
    "    \n",
    "    \n",
    "    "
   ]
  },
  {
   "cell_type": "code",
   "execution_count": null,
   "id": "60db38dd",
   "metadata": {},
   "outputs": [],
   "source": []
  }
 ],
 "metadata": {
  "kernelspec": {
   "display_name": "Python 3 (ipykernel)",
   "language": "python",
   "name": "python3"
  },
  "language_info": {
   "codemirror_mode": {
    "name": "ipython",
    "version": 3
   },
   "file_extension": ".py",
   "mimetype": "text/x-python",
   "name": "python",
   "nbconvert_exporter": "python",
   "pygments_lexer": "ipython3",
   "version": "3.10.9"
  }
 },
 "nbformat": 4,
 "nbformat_minor": 5
}
