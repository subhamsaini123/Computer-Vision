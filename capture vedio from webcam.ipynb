{
 "cells": [
  {
   "cell_type": "code",
   "execution_count": 1,
   "id": "91dc1b9c",
   "metadata": {},
   "outputs": [],
   "source": [
    "import numpy \n",
    "import cv2"
   ]
  },
  {
   "cell_type": "code",
   "execution_count": 4,
   "id": "6576c4e8",
   "metadata": {},
   "outputs": [
    {
     "name": "stdout",
     "output_type": "stream",
     "text": [
      "< cv2.VideoCapture 000001F5D814F790>\n"
     ]
    }
   ],
   "source": [
    "cap=cv2.VideoCapture(0,cv2.CAP_DSHOW)# external camera=1,leptop primary camera=1\n",
    "print(cap)\n",
    "\n",
    "while cap.isOpened():\n",
    "    rat,frame=cap.read()\n",
    "    if rat == True:\n",
    "        frame=cv2.resize(frame,(400,300))\n",
    "        gray=cv2.cvtColor(frame,cv2.COLOR_BGR2GRAY)\n",
    "        cv2.imshow(\"frame\",frame)\n",
    "        cv2.imshow(\"gray\",gray)\n",
    "        if cv2.waitKey(1) & 0xFF == ord(\"q\"):\n",
    "            break\n",
    "cap.release()\n",
    "cv2.destroyAllWindows()"
   ]
  },
  {
   "cell_type": "code",
   "execution_count": 13,
   "id": "a5dd4e9c",
   "metadata": {},
   "outputs": [
    {
     "name": "stdout",
     "output_type": "stream",
     "text": [
      "< cv2.VideoCapture 000001F5D814F8D0>\n"
     ]
    }
   ],
   "source": [
    "cap=cv2.VideoCapture(0,cv2.CAP_DSHOW)\n",
    "#DIVX,XVID,MJPG,X264,WMV1,WMV2\n",
    "\n",
    "fourcc=cv2.VideoWriter_fourcc(*\"XVID\")\n",
    "# it contains 4 parameters,name,codec,fps,resolution\n",
    "output=cv2.VideoWriter(\"C:\\\\Users\\\\subha\\\\OneDrive\\\\Desktop\\\\video record\\\\output.avi\",fourcc,20.0,(640,480))\n",
    "print(cap)\n",
    "\n",
    "while cap.isOpened():\n",
    "    ret,frame=cap.read()\n",
    "    if ret==True:\n",
    "        gray=cv2.cvtColor(frame,cv2.COLOR_BGR2GRAY)\n",
    "        cv2.imshow(\"yes\",frame)\n",
    "        cv2.imshow(\"yes\",gray)\n",
    "        \n",
    "        output.write(frame)\n",
    "        \n",
    "        if cv2.waitKey(1) & 0xff == ord(\"q\"):\n",
    "            break\n",
    "            \n",
    "            \n",
    "cap.release()\n",
    "output.release()\n",
    "cv2.destroyAllWindows()"
   ]
  },
  {
   "cell_type": "code",
   "execution_count": null,
   "id": "2220e8a0",
   "metadata": {},
   "outputs": [],
   "source": []
  }
 ],
 "metadata": {
  "kernelspec": {
   "display_name": "Python 3 (ipykernel)",
   "language": "python",
   "name": "python3"
  },
  "language_info": {
   "codemirror_mode": {
    "name": "ipython",
    "version": 3
   },
   "file_extension": ".py",
   "mimetype": "text/x-python",
   "name": "python",
   "nbconvert_exporter": "python",
   "pygments_lexer": "ipython3",
   "version": "3.10.9"
  }
 },
 "nbformat": 4,
 "nbformat_minor": 5
}
